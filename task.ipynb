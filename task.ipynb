{
 "cells": [
  {
   "cell_type": "code",
   "execution_count": 32,
   "metadata": {},
   "outputs": [],
   "source": [
    "from pyspark.sql import SparkSession\n",
    "from pyspark.sql.functions import col"
   ]
  },
  {
   "cell_type": "code",
   "execution_count": 112,
   "metadata": {},
   "outputs": [],
   "source": [
    "spark = SparkSession.builder.appName(\"BookRecommendations\").getOrCreate()\n",
    "\n",
    "# Load User and Book Ratings data into PySpark DataFrames\n",
    "user_df = spark.read.csv(\"BX-Users.csv\", header=True, inferSchema=True, sep=';')\n",
    "ratings_df = spark.read.csv(\"BX-Book-Ratings.csv\", header=True, inferSchema=True, sep=';')\n",
    "books_df = spark.read.csv(\"BX-Books.csv\", header=True, inferSchema=True, sep=';')"
   ]
  },
  {
   "cell_type": "code",
   "execution_count": 105,
   "metadata": {},
   "outputs": [
    {
     "name": "stdout",
     "output_type": "stream",
     "text": [
      "+----------+--------------------+--------------------+-------------------+--------------------+--------------------+--------------------+--------------------+\n",
      "|      ISBN|          Book-Title|         Book-Author|Year-Of-Publication|           Publisher|         Image-URL-S|         Image-URL-M|         Image-URL-L|\n",
      "+----------+--------------------+--------------------+-------------------+--------------------+--------------------+--------------------+--------------------+\n",
      "|0195153448| Classical Mythology|  Mark P. O. Morford|               2002|Oxford University...|http://images.ama...|http://images.ama...|http://images.ama...|\n",
      "|0002005018|        Clara Callan|Richard Bruce Wright|               2001|HarperFlamingo Ca...|http://images.ama...|http://images.ama...|http://images.ama...|\n",
      "|0060973129|Decision in Normandy|        Carlo D'Este|               1991|     HarperPerennial|http://images.ama...|http://images.ama...|http://images.ama...|\n",
      "|0374157065|Flu: The Story of...|    Gina Bari Kolata|               1999|Farrar Straus Giroux|http://images.ama...|http://images.ama...|http://images.ama...|\n",
      "|0393045218|The Mummies of Ur...|     E. J. W. Barber|               1999|W. W. Norton &amp...|http://images.ama...|http://images.ama...|http://images.ama...|\n",
      "|0399135782|The Kitchen God's...|             Amy Tan|               1991|    Putnam Pub Group|http://images.ama...|http://images.ama...|http://images.ama...|\n",
      "|0425176428|What If?: The Wor...|       Robert Cowley|               2000|Berkley Publishin...|http://images.ama...|http://images.ama...|http://images.ama...|\n",
      "|0671870432|     PLEADING GUILTY|         Scott Turow|               1993|          Audioworks|http://images.ama...|http://images.ama...|http://images.ama...|\n",
      "|0679425608|Under the Black F...|     David Cordingly|               1996|        Random House|http://images.ama...|http://images.ama...|http://images.ama...|\n",
      "|074322678X|Where You'll Find...|         Ann Beattie|               2002|            Scribner|http://images.ama...|http://images.ama...|http://images.ama...|\n",
      "|0771074670|Nights Below Stat...|David Adams Richards|               1988|     Emblem Editions|http://images.ama...|http://images.ama...|http://images.ama...|\n",
      "|080652121X|Hitler's Secret B...|          Adam Lebor|               2000|       Citadel Press|http://images.ama...|http://images.ama...|http://images.ama...|\n",
      "|0887841740|  The Middle Stories|         Sheila Heti|               2004|House of Anansi P...|http://images.ama...|http://images.ama...|http://images.ama...|\n",
      "|1552041778|            Jane Doe|        R. J. Kaiser|               1999|          Mira Books|http://images.ama...|http://images.ama...|http://images.ama...|\n",
      "|1558746218|A Second Chicken ...|       Jack Canfield|               1998|Health Communicat...|http://images.ama...|http://images.ama...|http://images.ama...|\n",
      "|1567407781|The Witchfinder (...|   Loren D. Estleman|               1998|Brilliance Audio ...|http://images.ama...|http://images.ama...|http://images.ama...|\n",
      "|1575663937|More Cunning Than...|  Robert Hendrickson|               1999|Kensington Publis...|http://images.ama...|http://images.ama...|http://images.ama...|\n",
      "|1881320189|Goodbye to the Bu...|        Julia Oliver|               1994|      River City Pub|http://images.ama...|http://images.ama...|http://images.ama...|\n",
      "|0440234743|       The Testament|        John Grisham|               1999|                Dell|http://images.ama...|http://images.ama...|http://images.ama...|\n",
      "|0452264464|Beloved (Plume Co...|       Toni Morrison|               1994|               Plume|http://images.ama...|http://images.ama...|http://images.ama...|\n",
      "+----------+--------------------+--------------------+-------------------+--------------------+--------------------+--------------------+--------------------+\n",
      "only showing top 20 rows\n",
      "\n"
     ]
    }
   ],
   "source": [
    "books_df.show()"
   ]
  },
  {
   "cell_type": "code",
   "execution_count": 113,
   "metadata": {},
   "outputs": [
    {
     "name": "stdout",
     "output_type": "stream",
     "text": [
      "+------+--------------------+----+\n",
      "|userid|            location| age|\n",
      "+------+--------------------+----+\n",
      "|     1|  nyc, new york, usa|NULL|\n",
      "|     2|stockton, califor...|  18|\n",
      "|     3|moscow, yukon ter...|NULL|\n",
      "|     4|porto, v.n.gaia, ...|  17|\n",
      "|     5|farnborough, hant...|NULL|\n",
      "|     6|santa monica, cal...|  61|\n",
      "|     7| washington, dc, usa|NULL|\n",
      "|     8|timmins, ontario,...|NULL|\n",
      "|     9|germantown, tenne...|NULL|\n",
      "|    10|albacete, wiscons...|  26|\n",
      "|    11|melbourne, victor...|  14|\n",
      "|    12|fort bragg, calif...|NULL|\n",
      "|    13|barcelona, barcel...|  26|\n",
      "|    14|mediapolis, iowa,...|NULL|\n",
      "|    15|calgary, alberta,...|NULL|\n",
      "|    16|albuquerque, new ...|NULL|\n",
      "|    17|chesapeake, virgi...|NULL|\n",
      "|    18|rio de janeiro, r...|  25|\n",
      "|    19|           weston, ,|  14|\n",
      "|    20|langhorne, pennsy...|  19|\n",
      "+------+--------------------+----+\n",
      "only showing top 20 rows\n",
      "\n"
     ]
    }
   ],
   "source": [
    "usercol = ['userid', 'location', 'age']\n",
    "user_df = user_df.toDF(*usercol)\n",
    "user_df.show()"
   ]
  },
  {
   "cell_type": "code",
   "execution_count": 114,
   "metadata": {},
   "outputs": [
    {
     "name": "stdout",
     "output_type": "stream",
     "text": [
      "+----------+--------------------+--------------------+-----------------+--------------------+--------------------+--------------------+--------------------+\n",
      "|      isbn|           booktitle|          bookauthor|yearofpublication|           publisher|           imageurls|           imageurlm|           imageurll|\n",
      "+----------+--------------------+--------------------+-----------------+--------------------+--------------------+--------------------+--------------------+\n",
      "|0195153448| Classical Mythology|  Mark P. O. Morford|             2002|Oxford University...|http://images.ama...|http://images.ama...|http://images.ama...|\n",
      "|0002005018|        Clara Callan|Richard Bruce Wright|             2001|HarperFlamingo Ca...|http://images.ama...|http://images.ama...|http://images.ama...|\n",
      "|0060973129|Decision in Normandy|        Carlo D'Este|             1991|     HarperPerennial|http://images.ama...|http://images.ama...|http://images.ama...|\n",
      "|0374157065|Flu: The Story of...|    Gina Bari Kolata|             1999|Farrar Straus Giroux|http://images.ama...|http://images.ama...|http://images.ama...|\n",
      "|0393045218|The Mummies of Ur...|     E. J. W. Barber|             1999|W. W. Norton &amp...|http://images.ama...|http://images.ama...|http://images.ama...|\n",
      "|0399135782|The Kitchen God's...|             Amy Tan|             1991|    Putnam Pub Group|http://images.ama...|http://images.ama...|http://images.ama...|\n",
      "|0425176428|What If?: The Wor...|       Robert Cowley|             2000|Berkley Publishin...|http://images.ama...|http://images.ama...|http://images.ama...|\n",
      "|0671870432|     PLEADING GUILTY|         Scott Turow|             1993|          Audioworks|http://images.ama...|http://images.ama...|http://images.ama...|\n",
      "|0679425608|Under the Black F...|     David Cordingly|             1996|        Random House|http://images.ama...|http://images.ama...|http://images.ama...|\n",
      "|074322678X|Where You'll Find...|         Ann Beattie|             2002|            Scribner|http://images.ama...|http://images.ama...|http://images.ama...|\n",
      "|0771074670|Nights Below Stat...|David Adams Richards|             1988|     Emblem Editions|http://images.ama...|http://images.ama...|http://images.ama...|\n",
      "|080652121X|Hitler's Secret B...|          Adam Lebor|             2000|       Citadel Press|http://images.ama...|http://images.ama...|http://images.ama...|\n",
      "|0887841740|  The Middle Stories|         Sheila Heti|             2004|House of Anansi P...|http://images.ama...|http://images.ama...|http://images.ama...|\n",
      "|1552041778|            Jane Doe|        R. J. Kaiser|             1999|          Mira Books|http://images.ama...|http://images.ama...|http://images.ama...|\n",
      "|1558746218|A Second Chicken ...|       Jack Canfield|             1998|Health Communicat...|http://images.ama...|http://images.ama...|http://images.ama...|\n",
      "|1567407781|The Witchfinder (...|   Loren D. Estleman|             1998|Brilliance Audio ...|http://images.ama...|http://images.ama...|http://images.ama...|\n",
      "|1575663937|More Cunning Than...|  Robert Hendrickson|             1999|Kensington Publis...|http://images.ama...|http://images.ama...|http://images.ama...|\n",
      "|1881320189|Goodbye to the Bu...|        Julia Oliver|             1994|      River City Pub|http://images.ama...|http://images.ama...|http://images.ama...|\n",
      "|0440234743|       The Testament|        John Grisham|             1999|                Dell|http://images.ama...|http://images.ama...|http://images.ama...|\n",
      "|0452264464|Beloved (Plume Co...|       Toni Morrison|             1994|               Plume|http://images.ama...|http://images.ama...|http://images.ama...|\n",
      "+----------+--------------------+--------------------+-----------------+--------------------+--------------------+--------------------+--------------------+\n",
      "only showing top 20 rows\n",
      "\n"
     ]
    }
   ],
   "source": [
    "bookscol = ['isbn', 'booktitle', 'bookauthor', 'yearofpublication', 'publisher', 'imageurls', 'imageurlm', 'imageurll']\n",
    "books_df = books_df.toDF(*bookscol)\n",
    "books_df.show()"
   ]
  },
  {
   "cell_type": "code",
   "execution_count": 115,
   "metadata": {},
   "outputs": [
    {
     "name": "stdout",
     "output_type": "stream",
     "text": [
      "+------+----------+------+\n",
      "|userid|      isbn|rating|\n",
      "+------+----------+------+\n",
      "|276725|034545104X|     0|\n",
      "|276726|0155061224|     5|\n",
      "|276727|0446520802|     0|\n",
      "|276729|052165615X|     3|\n",
      "|276729|0521795028|     6|\n",
      "|276733|2080674722|     0|\n",
      "|276736|3257224281|     8|\n",
      "|276737|0600570967|     6|\n",
      "|276744|038550120X|     7|\n",
      "|276745| 342310538|    10|\n",
      "|276746|0425115801|     0|\n",
      "|276746|0449006522|     0|\n",
      "|276746|0553561618|     0|\n",
      "|276746|055356451X|     0|\n",
      "|276746|0786013990|     0|\n",
      "|276746|0786014512|     0|\n",
      "|276747|0060517794|     9|\n",
      "|276747|0451192001|     0|\n",
      "|276747|0609801279|     0|\n",
      "|276747|0671537458|     9|\n",
      "+------+----------+------+\n",
      "only showing top 20 rows\n",
      "\n"
     ]
    }
   ],
   "source": [
    "ratingscol = ['userid', 'isbn', 'rating']\n",
    "ratings_df = ratings_df.toDF(*ratingscol)\n",
    "ratings_df.show()"
   ]
  },
  {
   "cell_type": "code",
   "execution_count": 116,
   "metadata": {},
   "outputs": [],
   "source": [
    "user_df = user_df.select(col(\"userid\").cast(\"int\"), col(\"location\").cast(\"string\"), col(\"age\").cast(\"int\"))"
   ]
  },
  {
   "cell_type": "code",
   "execution_count": 117,
   "metadata": {},
   "outputs": [],
   "source": [
    "ratings_df = ratings_df.select(col(\"userid\").cast(\"int\"), col(\"isbn\").cast(\"int\"), col(\"rating\").cast(\"double\"))"
   ]
  },
  {
   "cell_type": "code",
   "execution_count": 118,
   "metadata": {},
   "outputs": [
    {
     "name": "stdout",
     "output_type": "stream",
     "text": [
      "+------+--------------------+---+\n",
      "|userid|            location|age|\n",
      "+------+--------------------+---+\n",
      "|     2|stockton, califor...| 18|\n",
      "|     4|porto, v.n.gaia, ...| 17|\n",
      "|     6|santa monica, cal...| 61|\n",
      "|    10|albacete, wiscons...| 26|\n",
      "|    11|melbourne, victor...| 14|\n",
      "|    13|barcelona, barcel...| 26|\n",
      "|    18|rio de janeiro, r...| 25|\n",
      "|    19|           weston, ,| 14|\n",
      "|    20|langhorne, pennsy...| 19|\n",
      "|    21|ferrol / spain, a...| 46|\n",
      "|    24|cologne, nrw, ger...| 19|\n",
      "|    25|oakland, californ...| 55|\n",
      "|    27|chicago, illinois...| 32|\n",
      "|    28|freiburg, baden-w...| 24|\n",
      "|    29|cuernavaca, alaba...| 19|\n",
      "|    30|anchorage, alaska...| 24|\n",
      "|    31|shanghai, n/a, china| 20|\n",
      "|    33|costa mesa, calif...| 34|\n",
      "|    35|grafton, wisconsi...| 17|\n",
      "|    36|montreal, quebec,...| 24|\n",
      "+------+--------------------+---+\n",
      "only showing top 20 rows\n",
      "\n"
     ]
    }
   ],
   "source": [
    "user_df = user_df.na.drop()\n",
    "user_df.show()"
   ]
  },
  {
   "cell_type": "code",
   "execution_count": 119,
   "metadata": {},
   "outputs": [],
   "source": [
    "ratings_df = ratings_df.na.drop()"
   ]
  },
  {
   "cell_type": "code",
   "execution_count": 120,
   "metadata": {},
   "outputs": [],
   "source": [
    "books_df.createOrReplaceTempView('booksTable')"
   ]
  },
  {
   "cell_type": "code",
   "execution_count": 121,
   "metadata": {},
   "outputs": [],
   "source": [
    "user_df.createOrReplaceTempView('userTable')"
   ]
  },
  {
   "cell_type": "code",
   "execution_count": 122,
   "metadata": {},
   "outputs": [],
   "source": [
    "ratings_df.createOrReplaceTempView('ratingsTable')"
   ]
  },
  {
   "cell_type": "code",
   "execution_count": 127,
   "metadata": {},
   "outputs": [],
   "source": [
    "long_table = user_df.join(ratings_df, 'userid', 'INNER')\n",
    "long_table1 = long_table.join(books_df, 'isbn', 'INNER')"
   ]
  },
  {
   "cell_type": "code",
   "execution_count": 128,
   "metadata": {},
   "outputs": [
    {
     "name": "stdout",
     "output_type": "stream",
     "text": [
      "+-------+------+--------------------+---+------+--------------------+----------------+-----------------+--------------------+--------------------+--------------------+--------------------+\n",
      "|   isbn|userid|            location|age|rating|           booktitle|      bookauthor|yearofpublication|           publisher|           imageurls|           imageurlm|           imageurll|\n",
      "+-------+------+--------------------+---+------+--------------------+----------------+-----------------+--------------------+--------------------+--------------------+--------------------+\n",
      "|1047973| 11944|santo tirso, port...| 21|   9.0|     Brave New World|   Aldous Huxley|             1999|Trafalgar Square ...|http://images.ama...|http://images.ama...|http://images.ama...|\n",
      "|1048082|109901|sydney, new south...| 59|   8.0|     Made in America|     Bill Bryson|             1995|HarperCollins Pub...|http://images.ama...|http://images.ama...|http://images.ama...|\n",
      "|1846086|122874|melbourne, south ...| 25|   0.0|There Will Be a N...|      Tony Drake|             1984|HarperCollins Pub...|http://images.ama...|http://images.ama...|http://images.ama...|\n",
      "|1939203| 14867|palmerston north,...| 31|   8.0|The Collins Book ...|Jonathan Langley|             1993|HarperCollins Pub...|http://images.ama...|http://images.ama...|http://images.ama...|\n",
      "|1939203|265595|palmerston north,...| 31|   0.0|The Collins Book ...|Jonathan Langley|             1993|HarperCollins Pub...|http://images.ama...|http://images.ama...|http://images.ama...|\n",
      "|1941941|110746|wrexham, wales, u...| 59|   9.0|Little Grey Rabbi...|   Alison Uttley|             1978|HarperCollins Pub...|http://images.ama...|http://images.ama...|http://images.ama...|\n",
      "|1945203|110029|norwich, england,...| 27|   5.0|The Revenge of Mu...|Maureen Spurgeon|             1988|HarperCollins Pub...|http://images.ama...|http://images.ama...|http://images.ama...|\n",
      "|2118572|224121|royton, england, ...| 58|   0.0|Time and chance: ...|  Peter Townsend|             1978|             Collins|http://images.ama...|http://images.ama...|http://images.ama...|\n",
      "|2157853|171118|toronto, ontario,...| 47|   0.0|Shifting Gears: T...|      Nuala Beck|             1995|HarperCollins Pub...|http://images.ama...|http://images.ama...|http://images.ama...|\n",
      "|2157853|189334|ottawa, ontario, ...| 49|   0.0|Shifting Gears: T...|      Nuala Beck|             1995|HarperCollins Pub...|http://images.ama...|http://images.ama...|http://images.ama...|\n",
      "|2163578| 98573|kalgoorlie, weste...| 28|   5.0| Cry of the Kalahari|      Mark Owens|             1985|             Collins|http://images.ama...|http://images.ama...|http://images.ama...|\n",
      "|2197286| 91449|farncombe, surrey...| 34|   9.0|Collins Bird Guid...|     L. Svensson|             1998|    Trafalgar Square|http://images.ama...|http://images.ama...|http://images.ama...|\n",
      "|2210479|111550|johannesburg, gau...| 50|   6.0| A bridge of magpies|Geoffrey Jenkins|             1974|             Collins|http://images.ama...|http://images.ama...|http://images.ama...|\n",
      "|2213656|227538|kalamunda, wester...| 37|   0.0|Peter's pence;: A...|      Jon Cleary|             1974|             Collins|http://images.ama...|http://images.ama...|http://images.ama...|\n",
      "|2215039|172742|astoria, oregon, usa| 44|   0.0|      My Son, My Son|   Howard Spring|             1980|HarperCollins Pub...|http://images.ama...|http://images.ama...|http://images.ama...|\n",
      "|2215810| 35050|west columbia, so...| 33|   0.0|Lord of the Far I...|   Victoria Holt|             1975|             Collins|http://images.ama...|http://images.ama...|http://images.ama...|\n",
      "|2219808| 93698|halfmoon bay, bri...| 70|   0.0| The Zhukov briefing|     Antony Trew|             1975|             Collins|http://images.ama...|http://images.ama...|http://images.ama...|\n",
      "|2221160| 35050|west columbia, so...| 33|   0.0|                Solo|     Jack Higgns|                0|             Collins|http://images.ama...|http://images.ama...|http://images.ama...|\n",
      "|2228394|120178|olympia, washingt...| 59|   7.0|How to Shoot an A...|  Gerald Durrell|             1984|HarperCollins Pub...|http://images.ama...|http://images.ama...|http://images.ama...|\n",
      "|2228394|120565|singapore, n/a, s...| 38|   9.0|How to Shoot an A...|  Gerald Durrell|             1984|HarperCollins Pub...|http://images.ama...|http://images.ama...|http://images.ama...|\n",
      "+-------+------+--------------------+---+------+--------------------+----------------+-----------------+--------------------+--------------------+--------------------+--------------------+\n",
      "only showing top 20 rows\n",
      "\n"
     ]
    }
   ],
   "source": [
    "long_table1.show()"
   ]
  },
  {
   "cell_type": "code",
   "execution_count": 132,
   "metadata": {},
   "outputs": [],
   "source": [
    "(training_data, test_data) = long_table1.randomSplit([0.8, 0.2], seed=1234)"
   ]
  },
  {
   "cell_type": "code",
   "execution_count": 133,
   "metadata": {},
   "outputs": [],
   "source": [
    "from pyspark.ml.recommendation import ALS\n",
    "\n",
    "# Create an ALS model\n",
    "als = ALS(maxIter=5, rank=100, regParam=0.15, userCol=\"userid\", itemCol=\"isbn\", ratingCol=\"rating\", coldStartStrategy = \"drop\")\n",
    "\n",
    "# Fit the model to the ratings data\n",
    "model = als.fit(training_data)\n",
    "recommendations = model.transform(test_data)\n"
   ]
  },
  {
   "cell_type": "code",
   "execution_count": 134,
   "metadata": {},
   "outputs": [
    {
     "name": "stdout",
     "output_type": "stream",
     "text": [
      "+-------+------+--------------------+---+------+--------------------+----------------+-----------------+--------------------+--------------------+--------------------+--------------------+-----------+\n",
      "|   isbn|userid|            location|age|rating|           booktitle|      bookauthor|yearofpublication|           publisher|           imageurls|           imageurlm|           imageurll| prediction|\n",
      "+-------+------+--------------------+---+------+--------------------+----------------+-----------------+--------------------+--------------------+--------------------+--------------------+-----------+\n",
      "|1939203|265595|palmerston north,...| 31|   0.0|The Collins Book ...|Jonathan Langley|             1993|HarperCollins Pub...|http://images.ama...|http://images.ama...|http://images.ama...|  0.5502374|\n",
      "|2243962| 57725|wilmington, delaw...| 43|   0.0|Girlfriend In a Coma|Douglas Coupland|                0|Harper Collins Pu...|http://images.ama...|http://images.ama...|http://images.ama...|  0.3632781|\n",
      "|2243962| 62862|new milford, conn...| 47|   4.0|Girlfriend In a Coma|Douglas Coupland|                0|Harper Collins Pu...|http://images.ama...|http://images.ama...|http://images.ama...|   1.383223|\n",
      "|2550563| 71712|valley center, ka...| 26|   0.0|Black &amp; White...|     J.C. Suares|             1992|       HarperCollins|http://images.ama...|http://images.ama...|http://images.ama...|-0.31071544|\n",
      "|6148891| 56856|escondido, califo...| 23|   0.0|              Circus|Alistair Maclean|             1977|HarperCollins Pub...|http://images.ama...|http://images.ama...|http://images.ama...|        0.0|\n",
      "|6345530| 27363|leicester, englan...| 30|   0.0| Rosy Is My Relative|  Gerald Durrell|             1989|HarperCollins Pub...|http://images.ama...|http://images.ama...|http://images.ama...|        0.0|\n",
      "|6383777| 55409|glasgow, scotland...| 31|   0.0|Sex and Dating: T...|     Henry Beard|             1994|       Harpercollins|http://images.ama...|http://images.ama...|http://images.ama...|        0.0|\n",
      "|6472184|259035|edmonton, alberta...| 38|   0.0|Duncton Tales: Vo...| William Horwood|             1992|       Harpercollins|http://images.ama...|http://images.ama...|http://images.ama...| -1.8070097|\n",
      "|6472184| 44296|sydney, new south...| 26|   0.0|Duncton Tales: Vo...| William Horwood|             1992|       Harpercollins|http://images.ama...|http://images.ama...|http://images.ama...| -2.9727297|\n",
      "|6472648|124681|ringwood north, v...| 44|   0.0|Child of the Phoenix| Barbara Erskine|             1993|  Acacia Press, Inc.|http://images.ama...|http://images.ama...|http://images.ama...|   1.500514|\n",
      "|6472648|251844|lisboa, lisboa, p...| 30|   5.0|Child of the Phoenix| Barbara Erskine|             1993|  Acacia Press, Inc.|http://images.ama...|http://images.ama...|http://images.ama...|  2.7995749|\n",
      "|6472648|166596|greenwood, britis...| 57|   0.0|Child of the Phoenix| Barbara Erskine|             1993|  Acacia Press, Inc.|http://images.ama...|http://images.ama...|http://images.ama...| 0.11636919|\n",
      "|6490603|104399|middletown, ohio,...| 29|  10.0|James Cameron's T...|   James Cameron|             1997|  Perennial Currents|http://images.ama...|http://images.ama...|http://images.ama...|   5.186388|\n",
      "|6552390|238557|kuala lumpur, sel...| 21|   0.0|The Kindest Use a...|   Vanessa Jones|             2003|    HarperCollins UK|http://images.ama...|http://images.ama...|http://images.ama...| 0.40786356|\n",
      "|6552390|246156|eastbourne, engla...| 32|   8.0|The Kindest Use a...|   Vanessa Jones|             2003|    HarperCollins UK|http://images.ama...|http://images.ama...|http://images.ama...| 0.94725204|\n",
      "|6552390|113817|melbourne, victor...| 25|   0.0|The Kindest Use a...|   Vanessa Jones|             2003|    HarperCollins UK|http://images.ama...|http://images.ama...|http://images.ama...| 0.21707511|\n",
      "|6614000| 24921|higley, arizona, usa| 29|   0.0|Walt and Pepper (...|       Lisl Weil|             1983|HarperCollins Pub...|http://images.ama...|http://images.ama...|http://images.ama...|        0.0|\n",
      "|6715184|277478|schiedam, zuid-ho...| 31|   0.0|My Mate Shofiq (L...|      Jan Needle|             1983|HarperCollins Pub...|http://images.ama...|http://images.ama...|http://images.ama...| 0.58510536|\n",
      "|7154607|241791|       na, ohio, usa| 27|   0.0|Colors Insulting ...|   Cintra Wilson|             2004|       Fourth Estate|http://images.ama...|http://images.ama...|http://images.ama...|    1.32156|\n",
      "|7154607|141902|newport news, vir...| 51|   7.0|Colors Insulting ...|   Cintra Wilson|             2004|       Fourth Estate|http://images.ama...|http://images.ama...|http://images.ama...| 0.51076835|\n",
      "+-------+------+--------------------+---+------+--------------------+----------------+-----------------+--------------------+--------------------+--------------------+--------------------+-----------+\n",
      "only showing top 20 rows\n",
      "\n"
     ]
    }
   ],
   "source": [
    "recommendations.show()"
   ]
  },
  {
   "cell_type": "code",
   "execution_count": 135,
   "metadata": {},
   "outputs": [
    {
     "name": "stdout",
     "output_type": "stream",
     "text": [
      "3.9988915155055147\n"
     ]
    }
   ],
   "source": [
    "# Import RegressionEvaluator\n",
    "from pyspark.ml.evaluation import RegressionEvaluator\n",
    "\n",
    "evaluator = RegressionEvaluator(metricName=\"rmse\", labelCol=\"rating\", \n",
    "predictionCol=\"prediction\")\n",
    "\n",
    "# Evaluate the \"test_predictions\" dataframe\n",
    "RMSE = evaluator.evaluate(recommendations)\n",
    "\n",
    "# Print the RMSE\n",
    "print (RMSE)"
   ]
  },
  {
   "cell_type": "code",
   "execution_count": 138,
   "metadata": {},
   "outputs": [
    {
     "name": "stdout",
     "output_type": "stream",
     "text": [
      "+---------+------+--------------------+---+------+--------------------+-------------------+-----------------+--------------------+--------------------+--------------------+--------------------+----------+\n",
      "|     isbn|userid|            location|age|rating|           booktitle|         bookauthor|yearofpublication|           publisher|           imageurls|           imageurlm|           imageurll|prediction|\n",
      "+---------+------+--------------------+---+------+--------------------+-------------------+-----------------+--------------------+--------------------+--------------------+--------------------+----------+\n",
      "|931432820|106849|dunkirk, indiana,...| 39|  10.0|The Complete Book...|Valerie Ann Worwood|             1991|   New World Library|http://images.ama...|http://images.ama...|http://images.ama...|  12.35194|\n",
      "|688167888|177375|w.m., pennsylvani...| 42|   8.0|Miss Julia Speaks...|        Ann B. Ross|             1999|William Morrow &a...|http://images.ama...|http://images.ama...|http://images.ama...| 11.426285|\n",
      "|836218833| 14456|edmonton, alberta...| 27|  10.0|Attack Of The Der...|     Bill Watterson|             1992|Andrews McMeel Pu...|http://images.ama...|http://images.ama...|http://images.ama...| 11.111755|\n",
      "|894809946| 15049|benbrook, texas, usa| 28|   8.0|What to Expect th...|   Arlene Eisenberg|             1994|  Workman Publishing|http://images.ama...|http://images.ama...|http://images.ama...| 11.064533|\n",
      "|345424603|275318|klamath falls, or...| 49|  10.0|The Masterharper ...|     Anne McCaffrey|             1999|       Del Rey Books|http://images.ama...|http://images.ama...|http://images.ama...| 10.863206|\n",
      "|836218051| 55490|rapid city, south...| 25|  10.0|The Essential Cal...|     Bill Watterson|             1988|Andrews McMeel Pu...|http://images.ama...|http://images.ama...|http://images.ama...|  10.79924|\n",
      "|312872402| 91113|chicago, illinois...| 26|   0.0|Kushiel's Avatar ...|   Jacqueline Carey|             2003|           Tor Books|http://images.ama...|http://images.ama...|http://images.ama...| 10.760247|\n",
      "|451188462|106849|dunkirk, indiana,...| 39|  10.0|         Desperation|       Stephen King|             1997|         Signet Book|http://images.ama...|http://images.ama...|http://images.ama...| 10.625738|\n",
      "|553110845| 55490|rapid city, south...| 25|  10.0|House Corrino (Du...|      Brian Herbert|             2001|             Spectra|http://images.ama...|http://images.ama...|http://images.ama...|  10.57278|\n",
      "|452279615|268300|halifax, nova sco...| 25|  10.0|The Drawing of th...|       Stephen King|             1997|         Plume Books|http://images.ama...|http://images.ama...|http://images.ama...| 10.570615|\n",
      "+---------+------+--------------------+---+------+--------------------+-------------------+-----------------+--------------------+--------------------+--------------------+--------------------+----------+\n",
      "\n"
     ]
    }
   ],
   "source": [
    "# Generate book recommendations for a specific user (e.g., user_id = 123)\n",
    "user_id = 231263\n",
    "user_books = long_table1.filter(ratings_df[\"userid\"] == user_id)\n",
    "user_unrated_books = long_table1.subtract(user_books)\n",
    "\n",
    "# Predict ratings for unrated books\n",
    "recommendations = model.transform(user_unrated_books)\n",
    "top_recommendations = recommendations.orderBy(\"prediction\", ascending=False).limit(10)\n",
    "\n",
    "# Display the top recommended books\n",
    "top_recommendations.show()"
   ]
  },
  {
   "cell_type": "code",
   "execution_count": 140,
   "metadata": {},
   "outputs": [
    {
     "name": "stdout",
     "output_type": "stream",
     "text": [
      "+----+------+--------+---+------+---------+----------+-----------------+---------+---------+---------+---------+\n",
      "|isbn|userid|location|age|rating|booktitle|bookauthor|yearofpublication|publisher|imageurls|imageurlm|imageurll|\n",
      "+----+------+--------+---+------+---------+----------+-----------------+---------+---------+---------+---------+\n",
      "+----+------+--------+---+------+---------+----------+-----------------+---------+---------+---------+---------+\n",
      "\n"
     ]
    }
   ],
   "source": [
    "user_books.filter(user_unrated_books[\"isbn\"] == 931432820).show()"
   ]
  }
 ],
 "metadata": {
  "kernelspec": {
   "display_name": "Python 3",
   "language": "python",
   "name": "python3"
  },
  "language_info": {
   "codemirror_mode": {
    "name": "ipython",
    "version": 3
   },
   "file_extension": ".py",
   "mimetype": "text/x-python",
   "name": "python",
   "nbconvert_exporter": "python",
   "pygments_lexer": "ipython3",
   "version": "3.10.2"
  },
  "orig_nbformat": 4
 },
 "nbformat": 4,
 "nbformat_minor": 2
}
